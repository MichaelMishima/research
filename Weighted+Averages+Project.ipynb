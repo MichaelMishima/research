{
 "cells": [
  {
   "cell_type": "code",
   "execution_count": 11,
   "metadata": {
    "collapsed": true
   },
   "outputs": [],
   "source": [
    "import numpy as np\n",
    "def rand_weight_ave (num):\n",
    "    array = np.random.rand(num)\n",
    "    errors=abs(array-np.average(array))\n",
    "    weighted_ave=np.average(array,weights=errors)\n",
    "    return weighted_ave;\n",
    "    \n",
    "    "
   ]
  },
  {
   "cell_type": "code",
   "execution_count": 5,
   "metadata": {
    "collapsed": true
   },
   "outputs": [],
   "source": [
    "import numpy as np\n",
    "np.average?"
   ]
  },
  {
   "cell_type": "code",
   "execution_count": 14,
   "metadata": {
    "collapsed": true
   },
   "outputs": [],
   "source": [
    "#This function will approach the \"best\"/ true parameter of the population\n",
    "#As n goes to infinity. If not then, the statistic is not a good \n",
    "#description of the population"
   ]
  },
  {
   "cell_type": "code",
   "execution_count": null,
   "metadata": {
    "collapsed": true
   },
   "outputs": [],
   "source": [
    "#Weighted mean is a kind of average. Instead of each data point contributing\n",
    "#equally to the final mean, some data points contribute more \"weight\" than\n",
    "#others. If all weights are equal, weighted mean equals mean.\n",
    "\n",
    "\n",
    "#Weighted Mean Formula\n",
    "x_bar = sum(x_i * w_i)/sum(w_i)\n",
    "#w= the weights, x= the value"
   ]
  }
 ],
 "metadata": {
  "kernelspec": {
   "display_name": "Python 3",
   "language": "python",
   "name": "python3"
  },
  "language_info": {
   "codemirror_mode": {
    "name": "ipython",
    "version": 3
   },
   "file_extension": ".py",
   "mimetype": "text/x-python",
   "name": "python",
   "nbconvert_exporter": "python",
   "pygments_lexer": "ipython3",
   "version": "3.6.2"
  }
 },
 "nbformat": 4,
 "nbformat_minor": 2
}
